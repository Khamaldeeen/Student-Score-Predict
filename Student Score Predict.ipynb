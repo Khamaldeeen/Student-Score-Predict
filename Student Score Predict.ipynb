{
 "cells": [
  {
   "cell_type": "code",
   "execution_count": 4,
   "metadata": {},
   "outputs": [],
   "source": [
    "import numpy as np\n",
    "import pandas as pd\n",
    "import sklearn\n",
    "from sklearn import linear_model\n",
    "from sklearn.utils import shuffle"
   ]
  },
  {
   "cell_type": "code",
   "execution_count": 11,
   "metadata": {},
   "outputs": [
    {
     "data": {
      "text/html": [
       "<div>\n",
       "<style scoped>\n",
       "    .dataframe tbody tr th:only-of-type {\n",
       "        vertical-align: middle;\n",
       "    }\n",
       "\n",
       "    .dataframe tbody tr th {\n",
       "        vertical-align: top;\n",
       "    }\n",
       "\n",
       "    .dataframe thead th {\n",
       "        text-align: right;\n",
       "    }\n",
       "</style>\n",
       "<table border=\"1\" class=\"dataframe\">\n",
       "  <thead>\n",
       "    <tr style=\"text-align: right;\">\n",
       "      <th></th>\n",
       "      <th>school</th>\n",
       "      <th>sex</th>\n",
       "      <th>age</th>\n",
       "      <th>address</th>\n",
       "      <th>famsize</th>\n",
       "      <th>Pstatus</th>\n",
       "      <th>Medu</th>\n",
       "      <th>Fedu</th>\n",
       "      <th>Mjob</th>\n",
       "      <th>Fjob</th>\n",
       "      <th>...</th>\n",
       "      <th>famrel</th>\n",
       "      <th>freetime</th>\n",
       "      <th>goout</th>\n",
       "      <th>Dalc</th>\n",
       "      <th>Walc</th>\n",
       "      <th>health</th>\n",
       "      <th>absences</th>\n",
       "      <th>G1</th>\n",
       "      <th>G2</th>\n",
       "      <th>G3</th>\n",
       "    </tr>\n",
       "  </thead>\n",
       "  <tbody>\n",
       "    <tr>\n",
       "      <th>0</th>\n",
       "      <td>GP</td>\n",
       "      <td>F</td>\n",
       "      <td>18</td>\n",
       "      <td>U</td>\n",
       "      <td>GT3</td>\n",
       "      <td>A</td>\n",
       "      <td>4</td>\n",
       "      <td>4</td>\n",
       "      <td>at_home</td>\n",
       "      <td>teacher</td>\n",
       "      <td>...</td>\n",
       "      <td>4</td>\n",
       "      <td>3</td>\n",
       "      <td>4</td>\n",
       "      <td>1</td>\n",
       "      <td>1</td>\n",
       "      <td>3</td>\n",
       "      <td>6</td>\n",
       "      <td>5</td>\n",
       "      <td>6</td>\n",
       "      <td>6</td>\n",
       "    </tr>\n",
       "    <tr>\n",
       "      <th>1</th>\n",
       "      <td>GP</td>\n",
       "      <td>F</td>\n",
       "      <td>17</td>\n",
       "      <td>U</td>\n",
       "      <td>GT3</td>\n",
       "      <td>T</td>\n",
       "      <td>1</td>\n",
       "      <td>1</td>\n",
       "      <td>at_home</td>\n",
       "      <td>other</td>\n",
       "      <td>...</td>\n",
       "      <td>5</td>\n",
       "      <td>3</td>\n",
       "      <td>3</td>\n",
       "      <td>1</td>\n",
       "      <td>1</td>\n",
       "      <td>3</td>\n",
       "      <td>4</td>\n",
       "      <td>5</td>\n",
       "      <td>5</td>\n",
       "      <td>6</td>\n",
       "    </tr>\n",
       "    <tr>\n",
       "      <th>2</th>\n",
       "      <td>GP</td>\n",
       "      <td>F</td>\n",
       "      <td>15</td>\n",
       "      <td>U</td>\n",
       "      <td>LE3</td>\n",
       "      <td>T</td>\n",
       "      <td>1</td>\n",
       "      <td>1</td>\n",
       "      <td>at_home</td>\n",
       "      <td>other</td>\n",
       "      <td>...</td>\n",
       "      <td>4</td>\n",
       "      <td>3</td>\n",
       "      <td>2</td>\n",
       "      <td>2</td>\n",
       "      <td>3</td>\n",
       "      <td>3</td>\n",
       "      <td>10</td>\n",
       "      <td>7</td>\n",
       "      <td>8</td>\n",
       "      <td>10</td>\n",
       "    </tr>\n",
       "    <tr>\n",
       "      <th>3</th>\n",
       "      <td>GP</td>\n",
       "      <td>F</td>\n",
       "      <td>15</td>\n",
       "      <td>U</td>\n",
       "      <td>GT3</td>\n",
       "      <td>T</td>\n",
       "      <td>4</td>\n",
       "      <td>2</td>\n",
       "      <td>health</td>\n",
       "      <td>services</td>\n",
       "      <td>...</td>\n",
       "      <td>3</td>\n",
       "      <td>2</td>\n",
       "      <td>2</td>\n",
       "      <td>1</td>\n",
       "      <td>1</td>\n",
       "      <td>5</td>\n",
       "      <td>2</td>\n",
       "      <td>15</td>\n",
       "      <td>14</td>\n",
       "      <td>15</td>\n",
       "    </tr>\n",
       "    <tr>\n",
       "      <th>4</th>\n",
       "      <td>GP</td>\n",
       "      <td>F</td>\n",
       "      <td>16</td>\n",
       "      <td>U</td>\n",
       "      <td>GT3</td>\n",
       "      <td>T</td>\n",
       "      <td>3</td>\n",
       "      <td>3</td>\n",
       "      <td>other</td>\n",
       "      <td>other</td>\n",
       "      <td>...</td>\n",
       "      <td>4</td>\n",
       "      <td>3</td>\n",
       "      <td>2</td>\n",
       "      <td>1</td>\n",
       "      <td>2</td>\n",
       "      <td>5</td>\n",
       "      <td>4</td>\n",
       "      <td>6</td>\n",
       "      <td>10</td>\n",
       "      <td>10</td>\n",
       "    </tr>\n",
       "  </tbody>\n",
       "</table>\n",
       "<p>5 rows × 33 columns</p>\n",
       "</div>"
      ],
      "text/plain": [
       "  school sex  age address famsize Pstatus  Medu  Fedu     Mjob      Fjob  ...  \\\n",
       "0     GP   F   18       U     GT3       A     4     4  at_home   teacher  ...   \n",
       "1     GP   F   17       U     GT3       T     1     1  at_home     other  ...   \n",
       "2     GP   F   15       U     LE3       T     1     1  at_home     other  ...   \n",
       "3     GP   F   15       U     GT3       T     4     2   health  services  ...   \n",
       "4     GP   F   16       U     GT3       T     3     3    other     other  ...   \n",
       "\n",
       "  famrel freetime  goout  Dalc  Walc health absences  G1  G2  G3  \n",
       "0      4        3      4     1     1      3        6   5   6   6  \n",
       "1      5        3      3     1     1      3        4   5   5   6  \n",
       "2      4        3      2     2     3      3       10   7   8  10  \n",
       "3      3        2      2     1     1      5        2  15  14  15  \n",
       "4      4        3      2     1     2      5        4   6  10  10  \n",
       "\n",
       "[5 rows x 33 columns]"
      ]
     },
     "execution_count": 11,
     "metadata": {},
     "output_type": "execute_result"
    }
   ],
   "source": [
    "data = pd.read_csv('student-mat.csv', sep = ';')\n",
    "\n",
    "data.head()"
   ]
  },
  {
   "cell_type": "code",
   "execution_count": 7,
   "metadata": {},
   "outputs": [
    {
     "data": {
      "text/plain": [
       "Index(['school', 'sex', 'age', 'address', 'famsize', 'Pstatus', 'Medu', 'Fedu',\n",
       "       'Mjob', 'Fjob', 'reason', 'guardian', 'traveltime', 'studytime',\n",
       "       'failures', 'schoolsup', 'famsup', 'paid', 'activities', 'nursery',\n",
       "       'higher', 'internet', 'romantic', 'famrel', 'freetime', 'goout', 'Dalc',\n",
       "       'Walc', 'health', 'absences', 'G1', 'G2', 'G3'],\n",
       "      dtype='object')"
      ]
     },
     "execution_count": 7,
     "metadata": {},
     "output_type": "execute_result"
    }
   ],
   "source": [
    "data.columns"
   ]
  },
  {
   "cell_type": "code",
   "execution_count": 13,
   "metadata": {},
   "outputs": [
    {
     "data": {
      "text/html": [
       "<div>\n",
       "<style scoped>\n",
       "    .dataframe tbody tr th:only-of-type {\n",
       "        vertical-align: middle;\n",
       "    }\n",
       "\n",
       "    .dataframe tbody tr th {\n",
       "        vertical-align: top;\n",
       "    }\n",
       "\n",
       "    .dataframe thead th {\n",
       "        text-align: right;\n",
       "    }\n",
       "</style>\n",
       "<table border=\"1\" class=\"dataframe\">\n",
       "  <thead>\n",
       "    <tr style=\"text-align: right;\">\n",
       "      <th></th>\n",
       "      <th>studytime</th>\n",
       "      <th>absences</th>\n",
       "      <th>failures</th>\n",
       "      <th>G1</th>\n",
       "      <th>G2</th>\n",
       "      <th>G3</th>\n",
       "    </tr>\n",
       "  </thead>\n",
       "  <tbody>\n",
       "    <tr>\n",
       "      <th>0</th>\n",
       "      <td>2</td>\n",
       "      <td>6</td>\n",
       "      <td>0</td>\n",
       "      <td>5</td>\n",
       "      <td>6</td>\n",
       "      <td>6</td>\n",
       "    </tr>\n",
       "    <tr>\n",
       "      <th>1</th>\n",
       "      <td>2</td>\n",
       "      <td>4</td>\n",
       "      <td>0</td>\n",
       "      <td>5</td>\n",
       "      <td>5</td>\n",
       "      <td>6</td>\n",
       "    </tr>\n",
       "    <tr>\n",
       "      <th>2</th>\n",
       "      <td>2</td>\n",
       "      <td>10</td>\n",
       "      <td>3</td>\n",
       "      <td>7</td>\n",
       "      <td>8</td>\n",
       "      <td>10</td>\n",
       "    </tr>\n",
       "    <tr>\n",
       "      <th>3</th>\n",
       "      <td>3</td>\n",
       "      <td>2</td>\n",
       "      <td>0</td>\n",
       "      <td>15</td>\n",
       "      <td>14</td>\n",
       "      <td>15</td>\n",
       "    </tr>\n",
       "    <tr>\n",
       "      <th>4</th>\n",
       "      <td>2</td>\n",
       "      <td>4</td>\n",
       "      <td>0</td>\n",
       "      <td>6</td>\n",
       "      <td>10</td>\n",
       "      <td>10</td>\n",
       "    </tr>\n",
       "  </tbody>\n",
       "</table>\n",
       "</div>"
      ],
      "text/plain": [
       "   studytime  absences  failures  G1  G2  G3\n",
       "0          2         6         0   5   6   6\n",
       "1          2         4         0   5   5   6\n",
       "2          2        10         3   7   8  10\n",
       "3          3         2         0  15  14  15\n",
       "4          2         4         0   6  10  10"
      ]
     },
     "execution_count": 13,
     "metadata": {},
     "output_type": "execute_result"
    }
   ],
   "source": [
    "data = data[['studytime', 'absences', 'failures', 'G1', 'G2', 'G3']]\n",
    "data.head()"
   ]
  },
  {
   "cell_type": "code",
   "execution_count": 14,
   "metadata": {},
   "outputs": [
    {
     "data": {
      "text/html": [
       "<div>\n",
       "<style scoped>\n",
       "    .dataframe tbody tr th:only-of-type {\n",
       "        vertical-align: middle;\n",
       "    }\n",
       "\n",
       "    .dataframe tbody tr th {\n",
       "        vertical-align: top;\n",
       "    }\n",
       "\n",
       "    .dataframe thead th {\n",
       "        text-align: right;\n",
       "    }\n",
       "</style>\n",
       "<table border=\"1\" class=\"dataframe\">\n",
       "  <thead>\n",
       "    <tr style=\"text-align: right;\">\n",
       "      <th></th>\n",
       "      <th>studytime</th>\n",
       "      <th>absences</th>\n",
       "      <th>failures</th>\n",
       "      <th>G1</th>\n",
       "      <th>G2</th>\n",
       "    </tr>\n",
       "  </thead>\n",
       "  <tbody>\n",
       "    <tr>\n",
       "      <th>0</th>\n",
       "      <td>2</td>\n",
       "      <td>6</td>\n",
       "      <td>0</td>\n",
       "      <td>5</td>\n",
       "      <td>6</td>\n",
       "    </tr>\n",
       "    <tr>\n",
       "      <th>1</th>\n",
       "      <td>2</td>\n",
       "      <td>4</td>\n",
       "      <td>0</td>\n",
       "      <td>5</td>\n",
       "      <td>5</td>\n",
       "    </tr>\n",
       "    <tr>\n",
       "      <th>2</th>\n",
       "      <td>2</td>\n",
       "      <td>10</td>\n",
       "      <td>3</td>\n",
       "      <td>7</td>\n",
       "      <td>8</td>\n",
       "    </tr>\n",
       "    <tr>\n",
       "      <th>3</th>\n",
       "      <td>3</td>\n",
       "      <td>2</td>\n",
       "      <td>0</td>\n",
       "      <td>15</td>\n",
       "      <td>14</td>\n",
       "    </tr>\n",
       "    <tr>\n",
       "      <th>4</th>\n",
       "      <td>2</td>\n",
       "      <td>4</td>\n",
       "      <td>0</td>\n",
       "      <td>6</td>\n",
       "      <td>10</td>\n",
       "    </tr>\n",
       "    <tr>\n",
       "      <th>...</th>\n",
       "      <td>...</td>\n",
       "      <td>...</td>\n",
       "      <td>...</td>\n",
       "      <td>...</td>\n",
       "      <td>...</td>\n",
       "    </tr>\n",
       "    <tr>\n",
       "      <th>390</th>\n",
       "      <td>2</td>\n",
       "      <td>11</td>\n",
       "      <td>2</td>\n",
       "      <td>9</td>\n",
       "      <td>9</td>\n",
       "    </tr>\n",
       "    <tr>\n",
       "      <th>391</th>\n",
       "      <td>1</td>\n",
       "      <td>3</td>\n",
       "      <td>0</td>\n",
       "      <td>14</td>\n",
       "      <td>16</td>\n",
       "    </tr>\n",
       "    <tr>\n",
       "      <th>392</th>\n",
       "      <td>1</td>\n",
       "      <td>3</td>\n",
       "      <td>3</td>\n",
       "      <td>10</td>\n",
       "      <td>8</td>\n",
       "    </tr>\n",
       "    <tr>\n",
       "      <th>393</th>\n",
       "      <td>1</td>\n",
       "      <td>0</td>\n",
       "      <td>0</td>\n",
       "      <td>11</td>\n",
       "      <td>12</td>\n",
       "    </tr>\n",
       "    <tr>\n",
       "      <th>394</th>\n",
       "      <td>1</td>\n",
       "      <td>5</td>\n",
       "      <td>0</td>\n",
       "      <td>8</td>\n",
       "      <td>9</td>\n",
       "    </tr>\n",
       "  </tbody>\n",
       "</table>\n",
       "<p>395 rows × 5 columns</p>\n",
       "</div>"
      ],
      "text/plain": [
       "     studytime  absences  failures  G1  G2\n",
       "0            2         6         0   5   6\n",
       "1            2         4         0   5   5\n",
       "2            2        10         3   7   8\n",
       "3            3         2         0  15  14\n",
       "4            2         4         0   6  10\n",
       "..         ...       ...       ...  ..  ..\n",
       "390          2        11         2   9   9\n",
       "391          1         3         0  14  16\n",
       "392          1         3         3  10   8\n",
       "393          1         0         0  11  12\n",
       "394          1         5         0   8   9\n",
       "\n",
       "[395 rows x 5 columns]"
      ]
     },
     "execution_count": 14,
     "metadata": {},
     "output_type": "execute_result"
    }
   ],
   "source": [
    "X = data.drop('G3', axis = 1)\n",
    "X"
   ]
  },
  {
   "cell_type": "code",
   "execution_count": 15,
   "metadata": {},
   "outputs": [],
   "source": [
    "X = np.array(X)"
   ]
  },
  {
   "cell_type": "code",
   "execution_count": 16,
   "metadata": {},
   "outputs": [],
   "source": [
    "y = np.array(data['G3'])"
   ]
  },
  {
   "cell_type": "code",
   "execution_count": 17,
   "metadata": {},
   "outputs": [
    {
     "data": {
      "text/plain": [
       "array([[ 2,  6,  0,  5,  6],\n",
       "       [ 2,  4,  0,  5,  5],\n",
       "       [ 2, 10,  3,  7,  8],\n",
       "       ...,\n",
       "       [ 1,  3,  3, 10,  8],\n",
       "       [ 1,  0,  0, 11, 12],\n",
       "       [ 1,  5,  0,  8,  9]], dtype=int64)"
      ]
     },
     "execution_count": 17,
     "metadata": {},
     "output_type": "execute_result"
    }
   ],
   "source": [
    "X"
   ]
  },
  {
   "cell_type": "code",
   "execution_count": 58,
   "metadata": {},
   "outputs": [
    {
     "name": "stdout",
     "output_type": "stream",
     "text": [
      "0.8285728433527848\n"
     ]
    }
   ],
   "source": [
    "#from sklearn.model_selection import train_test_split\n",
    "#from sklearn.linear_model import LinearRegression\n",
    "'''\n",
    "best = 0\n",
    "for _ in range(1000):\n",
    "    x_train, x_test, y_train, y_test = train_test_split(X, y, test_size = 0.1 )\n",
    "    ln = LinearRegression()\n",
    "    ln.fit(x_train, y_train)\n",
    "    acc = ln.score(x_train, y_train)\n",
    "    print(acc)\n",
    "    \n",
    "    if acc > best:\n",
    "        with open('StudentScoreBest.pickle', 'wb') as f:\n",
    "            pickle.dump(ln, f)\n",
    "'''\n",
    "print(acc)\n",
    "\n"
   ]
  },
  {
   "cell_type": "code",
   "execution_count": 38,
   "metadata": {},
   "outputs": [
    {
     "data": {
      "text/plain": [
       "0.8303147351092695"
      ]
     },
     "execution_count": 38,
     "metadata": {},
     "output_type": "execute_result"
    }
   ],
   "source": [
    "\n"
   ]
  },
  {
   "cell_type": "code",
   "execution_count": 39,
   "metadata": {},
   "outputs": [
    {
     "name": "stdout",
     "output_type": "stream",
     "text": [
      "Coefficient: \n",
      " [-0.14468705  0.04494971 -0.26586231  0.16800094  0.97136389]\n",
      "Intercept: \n",
      " -1.7134541622264035\n"
     ]
    }
   ],
   "source": [
    "print('Coefficient: \\n', ln.coef_)\n",
    "print('Intercept: \\n', ln.intercept_)"
   ]
  },
  {
   "cell_type": "code",
   "execution_count": 40,
   "metadata": {},
   "outputs": [
    {
     "name": "stdout",
     "output_type": "stream",
     "text": [
      "11.73781319977295 [ 3  1  0 13 12] 12\n",
      "8.251455139495224 [2 0 0 9 9] 10\n",
      "12.801234348105467 [ 1 10  1 11 13] 13\n",
      "7.89758924725707 [ 2 10  0 10  8] 8\n",
      "11.155708863899566 [ 3  3  0  9 12] 11\n",
      "17.07699961922995 [ 4  0  0 17 17] 18\n",
      "10.620084194707582 [ 2  2  0 11 11] 10\n",
      "14.296079008684822 [ 2  4  0 15 14] 14\n",
      "12.898813838681383 [ 2  2  0 13 13] 13\n",
      "12.629397487666225 [ 1  4  0 10 13] 14\n",
      "-1.717862083303524 [1 0 2 4 0] 0\n",
      "10.600408332262766 [ 4  8  0 11 11] 10\n",
      "16.316908304642084 [ 2  2  0 16 16] 16\n",
      "14.728328309162917 [ 1  0  0 12 15] 15\n",
      "9.832355055637032 [ 2 12  1 11 10] 10\n",
      "10.620084194707582 [ 2  2  0 11 11] 11\n",
      "15.177543482655183 [ 2  2  0 15 15] 16\n",
      "13.928832772118938 [ 2 54  0 11 12] 11\n",
      "4.131695022041272 [2 6 0 6 5] 6\n",
      "10.194182909913057 [ 2  0  0  9 11] 12\n",
      "14.749411988538858 [ 2 20  1 15 14] 13\n",
      "16.148907367864098 [ 2  2  0 15 16] 16\n",
      "8.419456076273208 [ 2  0  0 10  9] 0\n",
      "9.199505136006398 [ 1  0  0  8 10] 11\n",
      "14.942957023336392 [ 3  0  0 15 15] 15\n",
      "13.924965360731985 [ 1  0  0 13 14] 14\n",
      "7.806075889664212 [1 4 1 6 9] 8\n",
      "14.27276511998708 [ 1  4  0 14 14] 14\n",
      "9.625406420800921 [ 1  2  0 10 10] 10\n",
      "7.2567773655885635 [1 0 0 8 8] 11\n",
      "7.483485848161671 [ 2 12  0  7  8] 8\n",
      "8.589416967527912 [ 3  7  0 10  9] 9\n",
      "12.898813838681383 [ 2  2  0 13 13] 13\n",
      "17.198372778612452 [ 2  0  0 16 17] 17\n",
      "7.7059925390808335 [ 2  2  0 11  8] 8\n",
      "10.154964957009845 [ 2 17  0 10 10] 10\n",
      "7.448092191064292 [ 2  0  0 10  8] 9\n",
      "16.395009830181515 [ 2  0  0 17 16] 16\n",
      "11.14223290642423 [ 1  0  0  8 12] 12\n",
      "9.312718435942696 [ 2  2  0  9 10] 10\n"
     ]
    }
   ],
   "source": [
    "Predictions = ln.predict(x_test)\n",
    "for x in range(len(Predictions)):\n",
    "    print(Predictions[x], x_test[x], y_test[x])"
   ]
  },
  {
   "cell_type": "code",
   "execution_count": 41,
   "metadata": {},
   "outputs": [],
   "source": [
    "import matplotlib.pyplot as plt\n",
    "from matplotlib import style\n",
    "import pickle"
   ]
  },
  {
   "cell_type": "code",
   "execution_count": 44,
   "metadata": {},
   "outputs": [],
   "source": [
    "with open('StudentScorePredict.pickle', 'wb') as f:\n",
    "    pickle.dump(ln, f)\n",
    "pickle_in = open('StudentScorePredict.pickle', 'rb')\n",
    "ln = pickle.load(pickle_in)"
   ]
  },
  {
   "cell_type": "code",
   "execution_count": 48,
   "metadata": {},
   "outputs": [
    {
     "data": {
      "text/plain": [
       "<_io.BufferedReader name='StudentScorePredict.pickle'>"
      ]
     },
     "execution_count": 48,
     "metadata": {},
     "output_type": "execute_result"
    }
   ],
   "source": [
    "pickle_in"
   ]
  },
  {
   "cell_type": "code",
   "execution_count": 49,
   "metadata": {},
   "outputs": [],
   "source": [
    "pickle_in = open('StudentScorePredict.pickle', 'rb')\n",
    "ln = pickle.load(pickle_in)"
   ]
  },
  {
   "cell_type": "code",
   "execution_count": 56,
   "metadata": {},
   "outputs": [
    {
     "name": "stdout",
     "output_type": "stream",
     "text": [
      "15.707777607082082 [ 1  5  0 16 15] 16\n",
      "11.977305870697165 [ 2  6  0 12 12] 12\n",
      "13.669916386400303 [ 2 54  0 11 12] 11\n",
      "15.747711538393123 [ 1  2  0 17 15] 15\n",
      "10.477664448771629 [ 4  8  0 11 11] 10\n",
      "12.04658079233029 [ 1  2  0 12 12] 11\n",
      "6.251308576920271 [2 0 0 8 7] 8\n",
      "15.213558877023655 [ 2  2  0 15 15] 14\n",
      "12.899334296380125 [ 1  8  0 16 12] 13\n",
      "14.602404240231335 [ 3  0  0 13 15] 15\n",
      "8.356042987256416 [2 0 0 9 9] 10\n",
      "10.336016256497752 [ 2 14  0 12 10] 11\n",
      "15.114942965068447 [ 4  7  0 16 15] 17\n",
      "14.169635197445118 [ 3  6  0 15 14] 14\n",
      "11.011817110141097 [ 3  8  0 13 11] 11\n",
      "5.988950243438743 [2 0 3 5 8] 7\n",
      "7.532532292957477 [ 2 12  0  7  8] 8\n",
      "9.484695696047531 [ 2  4  0  9 10] 10\n",
      "9.874004403960638 [ 2  2  0 12 10] 11\n",
      "5.344501797008369 [1 0 0 7 6] 0\n",
      "4.145141222984513 [2 4 0 6 5] 6\n",
      "5.48061216882929 [2 0 3 8 7] 0\n",
      "6.98368181374571 [ 1 16  3  6  8] 8\n",
      "10.14990360870192 [ 2  0  0  8 11] 11\n",
      "19.058100632943233 [ 1  8  0 18 18] 18\n",
      "12.953387572242193 [ 2  2  0 13 13] 13\n",
      "12.72094870237402 [ 2  0  0 12 13] 14\n",
      "16.42207944843685 [ 2  0  0 17 16] 16\n",
      "7.225957334865683 [2 0 0 8 8] 0\n",
      "11.823301919851462 [ 2  2  0 12 12] 11\n",
      "19.417217633629058 [ 1 24  1 18 18] 18\n",
      "11.172213351748098 [ 3  3  0  9 12] 11\n",
      "13.108824466687512 [ 2  2  0 14 13] 13\n",
      "13.781759433131626 [ 3  4  0 13 14] 14\n",
      "12.916901754824798 [ 1 10  1 11 13] 13\n",
      "13.858761408554479 [ 3  6  0 13 14] 14\n",
      "9.20593060410702 [ 2 14  0 11  9] 9\n",
      "12.246812784677148 [ 2 13  0 12 12] 13\n",
      "14.306752097111753 [ 1  2  0 14 14] 13\n",
      "-0.328200917840481 [ 3  0  0 11  0] 0\n"
     ]
    }
   ],
   "source": [
    "Predictions = ln.predict(x_test)\n",
    "for x in range(len(Predictions)):\n",
    "    print(Predictions[x], x_test[x], y_test[x])"
   ]
  },
  {
   "cell_type": "code",
   "execution_count": 55,
   "metadata": {},
   "outputs": [
    {
     "name": "stdout",
     "output_type": "stream",
     "text": [
      "Coefficient: \n",
      " [-0.22327887  0.03850099 -0.2568988   0.15543689  0.97464876]\n",
      "Intercept: \n",
      " -1.36817013930251\n",
      "15.707777607082082 [ 1  5  0 16 15] 16\n",
      "11.977305870697165 [ 2  6  0 12 12] 12\n",
      "13.669916386400303 [ 2 54  0 11 12] 11\n",
      "15.747711538393123 [ 1  2  0 17 15] 15\n",
      "10.477664448771629 [ 4  8  0 11 11] 10\n",
      "12.04658079233029 [ 1  2  0 12 12] 11\n",
      "6.251308576920271 [2 0 0 8 7] 8\n",
      "15.213558877023655 [ 2  2  0 15 15] 14\n",
      "12.899334296380125 [ 1  8  0 16 12] 13\n",
      "14.602404240231335 [ 3  0  0 13 15] 15\n",
      "8.356042987256416 [2 0 0 9 9] 10\n",
      "10.336016256497752 [ 2 14  0 12 10] 11\n",
      "15.114942965068447 [ 4  7  0 16 15] 17\n",
      "14.169635197445118 [ 3  6  0 15 14] 14\n",
      "11.011817110141097 [ 3  8  0 13 11] 11\n",
      "5.988950243438743 [2 0 3 5 8] 7\n",
      "7.532532292957477 [ 2 12  0  7  8] 8\n",
      "9.484695696047531 [ 2  4  0  9 10] 10\n",
      "9.874004403960638 [ 2  2  0 12 10] 11\n",
      "5.344501797008369 [1 0 0 7 6] 0\n",
      "4.145141222984513 [2 4 0 6 5] 6\n",
      "5.48061216882929 [2 0 3 8 7] 0\n",
      "6.98368181374571 [ 1 16  3  6  8] 8\n",
      "10.14990360870192 [ 2  0  0  8 11] 11\n",
      "19.058100632943233 [ 1  8  0 18 18] 18\n",
      "12.953387572242193 [ 2  2  0 13 13] 13\n",
      "12.72094870237402 [ 2  0  0 12 13] 14\n",
      "16.42207944843685 [ 2  0  0 17 16] 16\n",
      "7.225957334865683 [2 0 0 8 8] 0\n",
      "11.823301919851462 [ 2  2  0 12 12] 11\n",
      "19.417217633629058 [ 1 24  1 18 18] 18\n",
      "11.172213351748098 [ 3  3  0  9 12] 11\n",
      "13.108824466687512 [ 2  2  0 14 13] 13\n",
      "13.781759433131626 [ 3  4  0 13 14] 14\n",
      "12.916901754824798 [ 1 10  1 11 13] 13\n",
      "13.858761408554479 [ 3  6  0 13 14] 14\n",
      "9.20593060410702 [ 2 14  0 11  9] 9\n",
      "12.246812784677148 [ 2 13  0 12 12] 13\n",
      "14.306752097111753 [ 1  2  0 14 14] 13\n",
      "-0.328200917840481 [ 3  0  0 11  0] 0\n"
     ]
    }
   ],
   "source": [
    "#x_train, x_test, y_train, y_test = train_test_split(X, y, test_size = 0.1 )\n",
    "pickle_in1 = open('StudentScoreBest.pickle', 'rb')\n",
    "ln = pickle.load(pickle_in1)\n",
    "\n",
    "print('Coefficient: \\n', ln.coef_)\n",
    "print('Intercept: \\n', ln.intercept_)\n",
    "\n",
    "Predictions = ln.predict(x_test)\n",
    "for x in range(len(Predictions)):\n",
    "    print(Predictions[x], x_test[x], y_test[x])"
   ]
  },
  {
   "cell_type": "code",
   "execution_count": 59,
   "metadata": {},
   "outputs": [],
   "source": [
    "style.use('ggplot')"
   ]
  },
  {
   "cell_type": "code",
   "execution_count": 60,
   "metadata": {},
   "outputs": [
    {
     "data": {
      "text/plain": [
       "Index(['studytime', 'absences', 'failures', 'G1', 'G2', 'G3'], dtype='object')"
      ]
     },
     "execution_count": 60,
     "metadata": {},
     "output_type": "execute_result"
    }
   ],
   "source": [
    "data.columns"
   ]
  },
  {
   "cell_type": "code",
   "execution_count": 72,
   "metadata": {},
   "outputs": [
    {
     "data": {
      "image/png": "[encoded data removed]",
      "text/plain": [
       "<Figure size 432x288 with 1 Axes>"
      ]
     },
     "metadata": {},
     "output_type": "display_data"
    },
    {
     "data": {
      "image/png": "[encoded data removed]",
      "text/plain": [
       "<Figure size 432x288 with 1 Axes>"
      ]
     },
     "metadata": {},
     "output_type": "display_data"
    },
    {
     "data": {
      "image/png": "[encoded data removed]",
      "text/plain": [
       "<Figure size 432x288 with 1 Axes>"
      ]
     },
     "metadata": {},
     "output_type": "display_data"
    },
    {
     "data": {
      "image/png": "[encoded data removed]",
      "text/plain": [
       "<Figure size 432x288 with 1 Axes>"
      ]
     },
     "metadata": {},
     "output_type": "display_data"
    },
    {
     "data": {
      "image/png": "[encoded data removed]",
      "text/plain": [
       "<Figure size 432x288 with 1 Axes>"
      ]
     },
     "metadata": {},
     "output_type": "display_data"
    }
   ],
   "source": [
    "attr = [data['studytime'], data['absences'], data['failures'], data['G1'], data['G2']]\n",
    "name = ['studytime', 'absences', 'failures','G1','G2']\n",
    "title = ['Studytime vs Final Grade',\n",
    "         'Absences vs Final Grade',\n",
    "         'Failures vs Final Grade',\n",
    "         'G1 vs Final Grade',\n",
    "         'G2 vs Final Grade']\n",
    "for x in range(5):\n",
    "    plt.scatter(attr[x], data['G3'])\n",
    "    plt.xlabel('Final Grade')\n",
    "    plt.ylabel(name[x])\n",
    "    plt.title(title[x])\n",
    "    plt.show()"
   ]
  },
  {
   "cell_type": "code",
   "execution_count": 71,
   "metadata": {},
   "outputs": [
    {
     "data": {
      "image/png": "[encoded data removed]",
      "text/plain": [
       "<Figure size 432x288 with 1 Axes>"
      ]
     },
     "metadata": {},
     "output_type": "display_data"
    }
   ],
   "source": [
    "plt.plot(Predictions, label= 'Predicted Value')\n",
    "plt.plot(y_test, label= 'Actual Value')\n",
    "plt.title('Actual Final Grade vs Predicted Final Grade')\n",
    "plt.legend()\n",
    "plt.show()"
   ]
  },
  {
   "cell_type": "code",
   "execution_count": null,
   "metadata": {},
   "outputs": [],
   "source": []
  }
 ],
 "metadata": {
  "kernelspec": {
   "display_name": "Python 3",
   "language": "python",
   "name": "python3"
  },
  "language_info": {
   "codemirror_mode": {
    "name": "ipython",
    "version": 3
   },
   "file_extension": ".py",
   "mimetype": "text/x-python",
   "name": "python",
   "nbconvert_exporter": "python",
   "pygments_lexer": "ipython3",
   "version": "3.7.7"
  }
 },
 "nbformat": 4,
 "nbformat_minor": 4
}
